{
 "cells": [
  {
   "cell_type": "code",
   "execution_count": 5,
   "metadata": {
    "collapsed": false
   },
   "outputs": [],
   "source": [
    "from keras.engine import *\n",
    "from keras.engine.topology import Container\n",
    "from keras.models import Sequential\n",
    "from keras.layers import *\n",
    "from keras.preprocessing.text import Tokenizer\n",
    "from keras.preprocessing.sequence import pad_sequences\n",
    "from keras.optimizers import *\n",
    "import numpy as np\n",
    "import keras.backend as K\n",
    "from functools import reduce\n",
    "from tqdm import tqdm_notebook\n",
    "from keras.utils.np_utils import to_categorical\n",
    "from matplotlib import pylab as plt\n",
    "from IPython.display import clear_output\n",
    "from MeCab import Tagger\n",
    "from recurrentshop import *"
   ]
  },
  {
   "cell_type": "code",
   "execution_count": 6,
   "metadata": {
    "collapsed": true
   },
   "outputs": [],
   "source": [
    "TEXT_LENGTH = 30"
   ]
  },
  {
   "cell_type": "code",
   "execution_count": 7,
   "metadata": {
    "collapsed": false
   },
   "outputs": [],
   "source": [
    "mecaber = Tagger(\"-Ochasen\")\n",
    "with open(\"./timeline/chahan69.txt\", \"r\") as f:\n",
    "    texts = []\n",
    "    for line in f.readlines():\n",
    "        pos = mecaber.parse(line).split(\"\\n\")[:-1]\n",
    "        if len(pos) < 7:\n",
    "            continue\n",
    "        words = [x.split(\"\\t\")[0] for x in pos]\n",
    "        texts.append(\" \".join(words))\n",
    "tokenizer = Tokenizer(lower=True)"
   ]
  },
  {
   "cell_type": "code",
   "execution_count": 8,
   "metadata": {
    "collapsed": true
   },
   "outputs": [],
   "source": [
    "tokenizer.fit_on_texts(texts)\n",
    "X = pad_sequences(tokenizer.texts_to_sequences(texts), maxlen=TEXT_LENGTH, padding=\"post\")"
   ]
  },
  {
   "cell_type": "code",
   "execution_count": 34,
   "metadata": {
    "collapsed": true
   },
   "outputs": [],
   "source": [
    "def get_D():\n",
    "#     def del0(tensor): return(tensor[:,:,1:])\n",
    "    inputs = Input(shape=(None, len(tokenizer.word_index)+1))\n",
    "#     y = Lambda(del0)(inputs)\n",
    "#     y = Masking()(y)\n",
    "    y = TimeDistributed(Dense(100))(inputs)\n",
    "    y = LSTM(256)(y)\n",
    "    y = Dense(100, activation=\"relu\")(y)\n",
    "    y = Dense(1, activation=(\"sigmoid\"))(y)\n",
    "    model = Container(inputs=inputs, outputs=y, name=\"d\")\n",
    "    return(model)\n",
    "\n",
    "def get_G():\n",
    "    inputs = Input(shape=(256,))\n",
    "    rnn = RecurrentSequential(decode=True, output_length=50)\n",
    "    rnn.add(LSTMCell(256))\n",
    "    rnn.add(Dropout(0.1))\n",
    "    rnn.add(LSTMCell(256))\n",
    "    y = rnn(inputs)\n",
    "    y = TimeDistributed(Dense(len(tokenizer.word_index)+1, activation=\"softmax\"))(y)\n",
    "    model = Container(inputs=inputs, outputs=y, name=\"g\")\n",
    "    return(model)"
   ]
  },
  {
   "cell_type": "code",
   "execution_count": 35,
   "metadata": {
    "collapsed": false
   },
   "outputs": [],
   "source": [
    "class InvTokenizer:\n",
    "    def __init__(self, dic):\n",
    "        self.dic = dic\n",
    "        self.num = len(dic)\n",
    "        self.invdec = [\"\" for _ in range(self.num + 1)]\n",
    "        for c, i in self.dic.items():\n",
    "            self.invdec[i] = c\n",
    "    \n",
    "    def __call__(self, array):\n",
    "        array = array.argmax(axis=2)\n",
    "        res = []\n",
    "        for j in range(len(array)):\n",
    "            res.append(reduce(lambda x,y:x+y,[self.invdec[int(i)] for i in list(array[j])]))\n",
    "        return(res)\n",
    "            \n",
    "texgen = InvTokenizer(tokenizer.word_index)"
   ]
  },
  {
   "cell_type": "code",
   "execution_count": 36,
   "metadata": {
    "collapsed": false
   },
   "outputs": [],
   "source": [
    "dis = get_D()\n",
    "gen = get_G()\n",
    "\n",
    "gen_in = Input(shape=(256,))\n",
    "y1 = gen(gen_in)\n",
    "y2 = dis(y1)\n",
    "dis_in = Input(shape=(None, len(tokenizer.word_index)+1))\n",
    "dis_y = dis(dis_in)\n",
    "\n",
    "G = Model(gen_in, y1)\n",
    "G.compile(loss=\"binary_crossentropy\", optimizer=RMSprop(1e-4))\n",
    "D = Model(dis_in, dis_y)\n",
    "D.compile(loss=\"binary_crossentropy\", optimizer=RMSprop(1e-5))\n",
    "dis.trainable = False\n",
    "G_trainer = Model(gen_in, y2)\n",
    "G_trainer.compile(loss=\"binary_crossentropy\", optimizer=RMSprop(1e-4))\n",
    "gen.trainable = False\n",
    "dis.trainable = True\n",
    "D_trainer = Model(gen_in, y2)\n",
    "D_trainer.compile(loss=\"binary_crossentropy\", optimizer=RMSprop(1e-5))\n",
    "G_history = [] \n",
    "D_history = []"
   ]
  },
  {
   "cell_type": "code",
   "execution_count": 37,
   "metadata": {
    "collapsed": false,
    "scrolled": true
   },
   "outputs": [
    {
     "name": "stdout",
     "output_type": "stream",
     "text": [
      "\n"
     ]
    },
    {
     "data": {
      "image/png": "[encoded data removed]",
      "text/plain": [
       "<matplotlib.figure.Figure at 0x1dbb6ca20>"
      ]
     },
     "metadata": {},
     "output_type": "display_data"
    },
    {
     "ename": "KeyboardInterrupt",
     "evalue": "",
     "output_type": "error",
     "traceback": [
      "\u001b[0;31m---------------------------------------------------------------------------\u001b[0m",
      "\u001b[0;31mKeyboardInterrupt\u001b[0m                         Traceback (most recent call last)",
      "\u001b[0;32m<ipython-input-37-1ba35c02cdbe>\u001b[0m in \u001b[0;36m<module>\u001b[0;34m()\u001b[0m\n\u001b[1;32m      7\u001b[0m         \u001b[0mbatch\u001b[0m \u001b[0;34m=\u001b[0m \u001b[0mnp\u001b[0m\u001b[0;34m.\u001b[0m\u001b[0marray\u001b[0m\u001b[0;34m(\u001b[0m\u001b[0;34m[\u001b[0m\u001b[0mto_categorical\u001b[0m\u001b[0;34m(\u001b[0m\u001b[0mx\u001b[0m\u001b[0;34m,\u001b[0m \u001b[0mnum_classes\u001b[0m\u001b[0;34m=\u001b[0m\u001b[0mlen\u001b[0m\u001b[0;34m(\u001b[0m\u001b[0mtokenizer\u001b[0m\u001b[0;34m.\u001b[0m\u001b[0mword_index\u001b[0m\u001b[0;34m)\u001b[0m\u001b[0;34m+\u001b[0m\u001b[0;36m1\u001b[0m\u001b[0;34m)\u001b[0m \u001b[0;32mfor\u001b[0m \u001b[0mx\u001b[0m \u001b[0;32min\u001b[0m \u001b[0mX\u001b[0m\u001b[0;34m[\u001b[0m\u001b[0mi\u001b[0m\u001b[0;34m:\u001b[0m\u001b[0mi\u001b[0m\u001b[0;34m+\u001b[0m\u001b[0mbatch_size\u001b[0m\u001b[0;34m]\u001b[0m\u001b[0;34m]\u001b[0m\u001b[0;34m)\u001b[0m\u001b[0;34m\u001b[0m\u001b[0m\n\u001b[1;32m      8\u001b[0m         \u001b[0mG_loss\u001b[0m \u001b[0;34m=\u001b[0m \u001b[0mG_trainer\u001b[0m\u001b[0;34m.\u001b[0m\u001b[0mtrain_on_batch\u001b[0m\u001b[0;34m(\u001b[0m\u001b[0mnp\u001b[0m\u001b[0;34m.\u001b[0m\u001b[0mrandom\u001b[0m\u001b[0;34m.\u001b[0m\u001b[0mnormal\u001b[0m\u001b[0;34m(\u001b[0m\u001b[0msize\u001b[0m\u001b[0;34m=\u001b[0m\u001b[0;34m(\u001b[0m\u001b[0mbatch_size\u001b[0m\u001b[0;34m,\u001b[0m \u001b[0;36m256\u001b[0m\u001b[0;34m)\u001b[0m\u001b[0;34m)\u001b[0m\u001b[0;34m,\u001b[0m \u001b[0mnp\u001b[0m\u001b[0;34m.\u001b[0m\u001b[0mzeros\u001b[0m\u001b[0;34m(\u001b[0m\u001b[0mbatch_size\u001b[0m\u001b[0;34m)\u001b[0m\u001b[0;34m)\u001b[0m\u001b[0;34m\u001b[0m\u001b[0m\n\u001b[0;32m----> 9\u001b[0;31m         \u001b[0mG_loss\u001b[0m \u001b[0;34m+=\u001b[0m \u001b[0mG_trainer\u001b[0m\u001b[0;34m.\u001b[0m\u001b[0mtrain_on_batch\u001b[0m\u001b[0;34m(\u001b[0m\u001b[0mnp\u001b[0m\u001b[0;34m.\u001b[0m\u001b[0mrandom\u001b[0m\u001b[0;34m.\u001b[0m\u001b[0mnormal\u001b[0m\u001b[0;34m(\u001b[0m\u001b[0msize\u001b[0m\u001b[0;34m=\u001b[0m\u001b[0;34m(\u001b[0m\u001b[0mbatch_size\u001b[0m\u001b[0;34m,\u001b[0m \u001b[0;36m256\u001b[0m\u001b[0;34m)\u001b[0m\u001b[0;34m)\u001b[0m\u001b[0;34m,\u001b[0m \u001b[0mnp\u001b[0m\u001b[0;34m.\u001b[0m\u001b[0mzeros\u001b[0m\u001b[0;34m(\u001b[0m\u001b[0mbatch_size\u001b[0m\u001b[0;34m)\u001b[0m\u001b[0;34m)\u001b[0m\u001b[0;34m\u001b[0m\u001b[0m\n\u001b[0m\u001b[1;32m     10\u001b[0m         \u001b[0mD_loss\u001b[0m \u001b[0;34m=\u001b[0m \u001b[0mD_trainer\u001b[0m\u001b[0;34m.\u001b[0m\u001b[0mtrain_on_batch\u001b[0m\u001b[0;34m(\u001b[0m\u001b[0mnp\u001b[0m\u001b[0;34m.\u001b[0m\u001b[0mrandom\u001b[0m\u001b[0;34m.\u001b[0m\u001b[0mnormal\u001b[0m\u001b[0;34m(\u001b[0m\u001b[0msize\u001b[0m\u001b[0;34m=\u001b[0m\u001b[0;34m(\u001b[0m\u001b[0mbatch_size\u001b[0m\u001b[0;34m,\u001b[0m \u001b[0;36m256\u001b[0m\u001b[0;34m)\u001b[0m\u001b[0;34m)\u001b[0m\u001b[0;34m,\u001b[0m \u001b[0mnp\u001b[0m\u001b[0;34m.\u001b[0m\u001b[0mones\u001b[0m\u001b[0;34m(\u001b[0m\u001b[0mbatch_size\u001b[0m\u001b[0;34m)\u001b[0m\u001b[0;34m)\u001b[0m\u001b[0;34m\u001b[0m\u001b[0m\n\u001b[1;32m     11\u001b[0m         \u001b[0mD_loss\u001b[0m \u001b[0;34m+=\u001b[0m \u001b[0mD\u001b[0m\u001b[0;34m.\u001b[0m\u001b[0mtrain_on_batch\u001b[0m\u001b[0;34m(\u001b[0m\u001b[0mbatch\u001b[0m\u001b[0;34m,\u001b[0m \u001b[0mnp\u001b[0m\u001b[0;34m.\u001b[0m\u001b[0mzeros\u001b[0m\u001b[0;34m(\u001b[0m\u001b[0mbatch_size\u001b[0m\u001b[0;34m)\u001b[0m\u001b[0;34m)\u001b[0m\u001b[0;34m\u001b[0m\u001b[0m\n",
      "\u001b[0;32m/Users/ymmtlab/.pyenv/versions/anaconda3-4.3.1/lib/python3.6/site-packages/keras/engine/training.py\u001b[0m in \u001b[0;36mtrain_on_batch\u001b[0;34m(self, x, y, sample_weight, class_weight)\u001b[0m\n\u001b[1;32m   1631\u001b[0m             \u001b[0mins\u001b[0m \u001b[0;34m=\u001b[0m \u001b[0mx\u001b[0m \u001b[0;34m+\u001b[0m \u001b[0my\u001b[0m \u001b[0;34m+\u001b[0m \u001b[0msample_weights\u001b[0m\u001b[0;34m\u001b[0m\u001b[0m\n\u001b[1;32m   1632\u001b[0m         \u001b[0mself\u001b[0m\u001b[0;34m.\u001b[0m\u001b[0m_make_train_function\u001b[0m\u001b[0;34m(\u001b[0m\u001b[0;34m)\u001b[0m\u001b[0;34m\u001b[0m\u001b[0m\n\u001b[0;32m-> 1633\u001b[0;31m         \u001b[0moutputs\u001b[0m \u001b[0;34m=\u001b[0m \u001b[0mself\u001b[0m\u001b[0;34m.\u001b[0m\u001b[0mtrain_function\u001b[0m\u001b[0;34m(\u001b[0m\u001b[0mins\u001b[0m\u001b[0;34m)\u001b[0m\u001b[0;34m\u001b[0m\u001b[0m\n\u001b[0m\u001b[1;32m   1634\u001b[0m         \u001b[0;32mif\u001b[0m \u001b[0mlen\u001b[0m\u001b[0;34m(\u001b[0m\u001b[0moutputs\u001b[0m\u001b[0;34m)\u001b[0m \u001b[0;34m==\u001b[0m \u001b[0;36m1\u001b[0m\u001b[0;34m:\u001b[0m\u001b[0;34m\u001b[0m\u001b[0m\n\u001b[1;32m   1635\u001b[0m             \u001b[0;32mreturn\u001b[0m \u001b[0moutputs\u001b[0m\u001b[0;34m[\u001b[0m\u001b[0;36m0\u001b[0m\u001b[0;34m]\u001b[0m\u001b[0;34m\u001b[0m\u001b[0m\n",
      "\u001b[0;32m/Users/ymmtlab/.pyenv/versions/anaconda3-4.3.1/lib/python3.6/site-packages/keras/backend/tensorflow_backend.py\u001b[0m in \u001b[0;36m__call__\u001b[0;34m(self, inputs)\u001b[0m\n\u001b[1;32m   2227\u001b[0m         \u001b[0msession\u001b[0m \u001b[0;34m=\u001b[0m \u001b[0mget_session\u001b[0m\u001b[0;34m(\u001b[0m\u001b[0;34m)\u001b[0m\u001b[0;34m\u001b[0m\u001b[0m\n\u001b[1;32m   2228\u001b[0m         updated = session.run(self.outputs + [self.updates_op],\n\u001b[0;32m-> 2229\u001b[0;31m                               feed_dict=feed_dict)\n\u001b[0m\u001b[1;32m   2230\u001b[0m         \u001b[0;32mreturn\u001b[0m \u001b[0mupdated\u001b[0m\u001b[0;34m[\u001b[0m\u001b[0;34m:\u001b[0m\u001b[0mlen\u001b[0m\u001b[0;34m(\u001b[0m\u001b[0mself\u001b[0m\u001b[0;34m.\u001b[0m\u001b[0moutputs\u001b[0m\u001b[0;34m)\u001b[0m\u001b[0;34m]\u001b[0m\u001b[0;34m\u001b[0m\u001b[0m\n\u001b[1;32m   2231\u001b[0m \u001b[0;34m\u001b[0m\u001b[0m\n",
      "\u001b[0;32m/Users/ymmtlab/.pyenv/versions/anaconda3-4.3.1/lib/python3.6/site-packages/tensorflow/python/client/session.py\u001b[0m in \u001b[0;36mrun\u001b[0;34m(self, fetches, feed_dict, options, run_metadata)\u001b[0m\n\u001b[1;32m    784\u001b[0m     \u001b[0;32mtry\u001b[0m\u001b[0;34m:\u001b[0m\u001b[0;34m\u001b[0m\u001b[0m\n\u001b[1;32m    785\u001b[0m       result = self._run(None, fetches, feed_dict, options_ptr,\n\u001b[0;32m--> 786\u001b[0;31m                          run_metadata_ptr)\n\u001b[0m\u001b[1;32m    787\u001b[0m       \u001b[0;32mif\u001b[0m \u001b[0mrun_metadata\u001b[0m\u001b[0;34m:\u001b[0m\u001b[0;34m\u001b[0m\u001b[0m\n\u001b[1;32m    788\u001b[0m         \u001b[0mproto_data\u001b[0m \u001b[0;34m=\u001b[0m \u001b[0mtf_session\u001b[0m\u001b[0;34m.\u001b[0m\u001b[0mTF_GetBuffer\u001b[0m\u001b[0;34m(\u001b[0m\u001b[0mrun_metadata_ptr\u001b[0m\u001b[0;34m)\u001b[0m\u001b[0;34m\u001b[0m\u001b[0m\n",
      "\u001b[0;32m/Users/ymmtlab/.pyenv/versions/anaconda3-4.3.1/lib/python3.6/site-packages/tensorflow/python/client/session.py\u001b[0m in \u001b[0;36m_run\u001b[0;34m(self, handle, fetches, feed_dict, options, run_metadata)\u001b[0m\n\u001b[1;32m    992\u001b[0m     \u001b[0;32mif\u001b[0m \u001b[0mfinal_fetches\u001b[0m \u001b[0;32mor\u001b[0m \u001b[0mfinal_targets\u001b[0m\u001b[0;34m:\u001b[0m\u001b[0;34m\u001b[0m\u001b[0m\n\u001b[1;32m    993\u001b[0m       results = self._do_run(handle, final_targets, final_fetches,\n\u001b[0;32m--> 994\u001b[0;31m                              feed_dict_string, options, run_metadata)\n\u001b[0m\u001b[1;32m    995\u001b[0m     \u001b[0;32melse\u001b[0m\u001b[0;34m:\u001b[0m\u001b[0;34m\u001b[0m\u001b[0m\n\u001b[1;32m    996\u001b[0m       \u001b[0mresults\u001b[0m \u001b[0;34m=\u001b[0m \u001b[0;34m[\u001b[0m\u001b[0;34m]\u001b[0m\u001b[0;34m\u001b[0m\u001b[0m\n",
      "\u001b[0;32m/Users/ymmtlab/.pyenv/versions/anaconda3-4.3.1/lib/python3.6/site-packages/tensorflow/python/client/session.py\u001b[0m in \u001b[0;36m_do_run\u001b[0;34m(self, handle, target_list, fetch_list, feed_dict, options, run_metadata)\u001b[0m\n\u001b[1;32m   1127\u001b[0m     \u001b[0;32mif\u001b[0m \u001b[0mhandle\u001b[0m \u001b[0;32mis\u001b[0m \u001b[0;32mNone\u001b[0m\u001b[0;34m:\u001b[0m\u001b[0;34m\u001b[0m\u001b[0m\n\u001b[1;32m   1128\u001b[0m       return self._do_call(_run_fn, self._session, feed_dict, fetch_list,\n\u001b[0;32m-> 1129\u001b[0;31m                            target_list, options, run_metadata)\n\u001b[0m\u001b[1;32m   1130\u001b[0m     \u001b[0;32melse\u001b[0m\u001b[0;34m:\u001b[0m\u001b[0;34m\u001b[0m\u001b[0m\n\u001b[1;32m   1131\u001b[0m       return self._do_call(_prun_fn, self._session, handle, feed_dict,\n",
      "\u001b[0;32m/Users/ymmtlab/.pyenv/versions/anaconda3-4.3.1/lib/python3.6/site-packages/tensorflow/python/client/session.py\u001b[0m in \u001b[0;36m_do_call\u001b[0;34m(self, fn, *args)\u001b[0m\n\u001b[1;32m   1134\u001b[0m   \u001b[0;32mdef\u001b[0m \u001b[0m_do_call\u001b[0m\u001b[0;34m(\u001b[0m\u001b[0mself\u001b[0m\u001b[0;34m,\u001b[0m \u001b[0mfn\u001b[0m\u001b[0;34m,\u001b[0m \u001b[0;34m*\u001b[0m\u001b[0margs\u001b[0m\u001b[0;34m)\u001b[0m\u001b[0;34m:\u001b[0m\u001b[0;34m\u001b[0m\u001b[0m\n\u001b[1;32m   1135\u001b[0m     \u001b[0;32mtry\u001b[0m\u001b[0;34m:\u001b[0m\u001b[0;34m\u001b[0m\u001b[0m\n\u001b[0;32m-> 1136\u001b[0;31m       \u001b[0;32mreturn\u001b[0m \u001b[0mfn\u001b[0m\u001b[0;34m(\u001b[0m\u001b[0;34m*\u001b[0m\u001b[0margs\u001b[0m\u001b[0;34m)\u001b[0m\u001b[0;34m\u001b[0m\u001b[0m\n\u001b[0m\u001b[1;32m   1137\u001b[0m     \u001b[0;32mexcept\u001b[0m \u001b[0merrors\u001b[0m\u001b[0;34m.\u001b[0m\u001b[0mOpError\u001b[0m \u001b[0;32mas\u001b[0m \u001b[0me\u001b[0m\u001b[0;34m:\u001b[0m\u001b[0;34m\u001b[0m\u001b[0m\n\u001b[1;32m   1138\u001b[0m       \u001b[0mmessage\u001b[0m \u001b[0;34m=\u001b[0m \u001b[0mcompat\u001b[0m\u001b[0;34m.\u001b[0m\u001b[0mas_text\u001b[0m\u001b[0;34m(\u001b[0m\u001b[0me\u001b[0m\u001b[0;34m.\u001b[0m\u001b[0mmessage\u001b[0m\u001b[0;34m)\u001b[0m\u001b[0;34m\u001b[0m\u001b[0m\n",
      "\u001b[0;32m/Users/ymmtlab/.pyenv/versions/anaconda3-4.3.1/lib/python3.6/site-packages/tensorflow/python/client/session.py\u001b[0m in \u001b[0;36m_run_fn\u001b[0;34m(session, feed_dict, fetch_list, target_list, options, run_metadata)\u001b[0m\n\u001b[1;32m   1116\u001b[0m         return tf_session.TF_Run(session, options,\n\u001b[1;32m   1117\u001b[0m                                  \u001b[0mfeed_dict\u001b[0m\u001b[0;34m,\u001b[0m \u001b[0mfetch_list\u001b[0m\u001b[0;34m,\u001b[0m \u001b[0mtarget_list\u001b[0m\u001b[0;34m,\u001b[0m\u001b[0;34m\u001b[0m\u001b[0m\n\u001b[0;32m-> 1118\u001b[0;31m                                  status, run_metadata)\n\u001b[0m\u001b[1;32m   1119\u001b[0m \u001b[0;34m\u001b[0m\u001b[0m\n\u001b[1;32m   1120\u001b[0m     \u001b[0;32mdef\u001b[0m \u001b[0m_prun_fn\u001b[0m\u001b[0;34m(\u001b[0m\u001b[0msession\u001b[0m\u001b[0;34m,\u001b[0m \u001b[0mhandle\u001b[0m\u001b[0;34m,\u001b[0m \u001b[0mfeed_dict\u001b[0m\u001b[0;34m,\u001b[0m \u001b[0mfetch_list\u001b[0m\u001b[0;34m)\u001b[0m\u001b[0;34m:\u001b[0m\u001b[0;34m\u001b[0m\u001b[0m\n",
      "\u001b[0;31mKeyboardInterrupt\u001b[0m: "
     ]
    }
   ],
   "source": [
    "epoch = 10\n",
    "batch_size = 32\n",
    "for e in range(epoch):\n",
    "    np.random.shuffle(X)\n",
    "    t = tqdm_notebook(range(0, len(X), batch_size)[:-1])\n",
    "    for i in t:\n",
    "        batch = np.array([to_categorical(x, num_classes=len(tokenizer.word_index)+1) for x in X[i:i+batch_size]])\n",
    "        G_loss = G_trainer.train_on_batch(np.random.normal(size=(batch_size, 256)), np.zeros(batch_size))\n",
    "        G_loss += G_trainer.train_on_batch(np.random.normal(size=(batch_size, 256)), np.zeros(batch_size))\n",
    "        D_loss = D_trainer.train_on_batch(np.random.normal(size=(batch_size, 256)), np.ones(batch_size))\n",
    "        D_loss += D.train_on_batch(batch, np.zeros(batch_size))\n",
    "        \n",
    "        G_history.append(G_loss)\n",
    "        D_history.append(D_loss)\n",
    "        t.set_description(\"G_loss: {0}, D_loss: {1}\".format(G_loss, D_loss))\n",
    "        clear_output()\n",
    "        noise = np.random.normal(size=(1, 256))\n",
    "        res = G.predict(noise)\n",
    "        print(texgen(res)[0])\n",
    "        plt.plot(G_history, label=\"G_loss\")\n",
    "        plt.plot(D_history, label=\"D_loss\")\n",
    "        plt.legend()\n",
    "        plt.show()"
   ]
  },
  {
   "cell_type": "code",
   "execution_count": 18,
   "metadata": {
    "collapsed": false
   },
   "outputs": [
    {
     "data": {
      "text/plain": [
       "['！！！！！！！！！！！！！！！！！！！！！！！！！！！！！！',\n",
       " '！！！！！！！！！！！！！！！！！！！！！！！！！！！！！！',\n",
       " '！！！！！！！！！！！！！！！！！！！！！！！！！！！！！！',\n",
       " '！！！！！！！！！！！！！！！！！！！！！！！！！！！！！！',\n",
       " '！！！！！！！！！！！！！！！！！！！！！！！！！！！！！！',\n",
       " '！！！！！！！！！！！！！！！！！！！！！！！！！！！！！！',\n",
       " '！！！！！！！！！！！！！！！！！！！！！！！！！！！！！！',\n",
       " '！！！！！！！！！！！！！！！！！！！！！！！！！！！！！！',\n",
       " '！！！！！！！！！！！！！！！！！！！！！！！！！！！！！！',\n",
       " '！！！！！！！！！！！！！！！！！！！！！！！！！！！！！！',\n",
       " '！！！！！！！！！！！！！！！！！！！！！！！！！！！！！！',\n",
       " '！！！！！！！！！！！！！！！！！！！！！！！！！！！！！！',\n",
       " '！！！！！！！！！！！！！！！！！！！！！！！！！！！！！！',\n",
       " '！！！！！！！！！！！！！！！！！！！！！！！！！！！！！！',\n",
       " '！！！！！！！！！！！！！！！！！！！！！！！！！！！！！！',\n",
       " '！！！！！！！！！！！！！！！！！！！！！！！！！！！！！！',\n",
       " '！！！！！！！！！！！！！！！！！！！！！！！！！！！！！！',\n",
       " '！！！！！！！！！！！！！！！！！！！！！！！！！！！！！！',\n",
       " '！！！！！！！！！！！！！！！！！！！！！！！！！！！！！！',\n",
       " '！！！！！！！！！！！！！！！！！！！！！！！！！！！！！！',\n",
       " '！！！！！！！！！！！！！！！！！！！！！！！！！！！！！！',\n",
       " '！！！！！！！！！！！！！！！！！！！！！！！！！！！！！！',\n",
       " '！！！！！！！！！！！！！！！！！！！！！！！！！！！！！！',\n",
       " '！！！！！！！！！！！！！！！！！！！！！！！！！！！！！！',\n",
       " '！！！！！！！！！！！！！！！！！！！！！！！！！！！！！！',\n",
       " '！！！！！！！！！！！！！！！！！！！！！！！！！！！！！！',\n",
       " '！！！！！！！！！！！！！！！！！！！！！！！！！！！！！！',\n",
       " '！！！！！！！！！！！！！！！！！！！！！！！！！！！！！！',\n",
       " '！！！！！！！！！！！！！！！！！！！！！！！！！！！！！！',\n",
       " '！！！！！！！！！！！！！！！！！！！！！！！！！！！！！！',\n",
       " '！！！！！！！！！！！！！！！！！！！！！！！！！！！！！！',\n",
       " '！！！！！！！！！！！！！！！！！！！！！！！！！！！！！！']"
      ]
     },
     "execution_count": 18,
     "metadata": {},
     "output_type": "execute_result"
    }
   ],
   "source": [
    "texgen(G.predict(np.random.normal(size=(batch_size, TEXT_LENGTH, 100))))"
   ]
  },
  {
   "cell_type": "code",
   "execution_count": null,
   "metadata": {
    "collapsed": true
   },
   "outputs": [],
   "source": []
  }
 ],
 "metadata": {
  "kernelspec": {
   "display_name": "Python 3",
   "language": "python",
   "name": "python3"
  },
  "language_info": {
   "codemirror_mode": {
    "name": "ipython",
    "version": 3
   },
   "file_extension": ".py",
   "mimetype": "text/x-python",
   "name": "python",
   "nbconvert_exporter": "python",
   "pygments_lexer": "ipython3",
   "version": "3.6.0"
  },
  "widgets": {
   "state": {
    "8ce10d1d40db468fa0561ac9cdbc660a": {
     "views": [
      {
       "cell_index": 7
      }
     ]
    },
    "afb3f79b48c943e0a5609f4f15c56d6c": {
     "views": [
      {
       "cell_index": 7
      }
     ]
    },
    "f5e378c0d5e94ddbbb9c10a0be60e3f0": {
     "views": [
      {
       "cell_index": 7
      }
     ]
    }
   },
   "version": "1.2.0"
  }
 },
 "nbformat": 4,
 "nbformat_minor": 2
}
